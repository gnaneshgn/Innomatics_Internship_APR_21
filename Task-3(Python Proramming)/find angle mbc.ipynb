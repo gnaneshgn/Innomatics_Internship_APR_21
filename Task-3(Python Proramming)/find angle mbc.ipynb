{
 "cells": [
  {
   "cell_type": "code",
   "execution_count": 7,
   "metadata": {},
   "outputs": [
    {
     "name": "stdout",
     "output_type": "stream",
     "text": [
      "10\n",
      "10\n",
      "45 °\n"
     ]
    }
   ],
   "source": [
    "import math\n",
    "\n",
    "AB=int(input())\n",
    "BC=int(input())\n",
    "h=AB**2 +BC**2\n",
    "hypo=(math.sqrt(h))\n",
    "res=round(math.degrees(math.acos(BC/hypo)))\n",
    "print(res,chr(176))"
   ]
  },
  {
   "cell_type": "code",
   "execution_count": null,
   "metadata": {},
   "outputs": [],
   "source": []
  }
 ],
 "metadata": {
  "kernelspec": {
   "display_name": "Python 3",
   "language": "python",
   "name": "python3"
  },
  "language_info": {
   "codemirror_mode": {
    "name": "ipython",
    "version": 3
   },
   "file_extension": ".py",
   "mimetype": "text/x-python",
   "name": "python",
   "nbconvert_exporter": "python",
   "pygments_lexer": "ipython3",
   "version": "3.8.5"
  }
 },
 "nbformat": 4,
 "nbformat_minor": 4
}
